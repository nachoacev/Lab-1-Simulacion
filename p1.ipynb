{
 "cells": [
  {
   "cell_type": "markdown",
   "metadata": {},
   "source": [
    "# P1\n",
    "\n",
    "En este laboratorio se utilizan números pseudoaleatorios generados por el paquete $\\text{numpy.random}$ de la librería $\\text{Numpy}$. Se usa mayoritariamente $\\text{numpy.random.uniform}$ para extraer variables aleatorias uniformes $U[0,1]$, que mediante distintos métodos, permiten simular otras variables aleatorias, por lo que el elemento de aleatoriedad proviene principalmente de esta función. Hay que notar que los números pseudoaleatorios _no son aleatorios_ pues se generan mediante un algoritmo determinista. Por ejemplo, los números pseudoaleatorios se generan a partir de una semilla y un método, luego si se conoce el método y la semilla, es posible recrear la secuencia de números con exactitud. Sin perjuicio de lo anterior, para la mayoría de los casos los números bastan para ser considerados \"aleatorios\" pues se debe estudiar una gran cantidad de números en una secuencia para encontrar regularidad en ella (por ejemplo, se pueden generar secuencias con un periodo mínimo de $2^{19937}$). De acuerdo a la [documentación de Numpy con respecto a la generación de números pseudoaleatorios](https://numpy.org/doc/stable/reference/random/index.html), $\\text{uniform}$ usa el generador [$\\text{generator.random}$](https://numpy.org/doc/stable/reference/random/generated/numpy.random.Generator.random.html#numpy.random.Generator.random), que es el generador estándar de Python 3. La documentación de este generador se puede encontrar directamente en [la documentación de Python](https://docs.python.org/3/library/random.html). A continuación se cita un fragmento de esta:\n",
    "\n",
    "> Almost all module functions depend on the basic function random(), which generates a random float uniformly in the semi-open range [0.0, 1.0). Python uses the Mersenne Twister as the core generator. It produces 53-bit precision floats and has a period of 2**19937-1. The underlying implementation in C is both fast and threadsafe. The Mersenne Twister is one of the most extensively tested random number generators in existence. However, being completely deterministic, it is not suitable for all purposes, and is completely unsuitable for cryptographic purposes.\n",
    "\n",
    "En resumen, la función $\\text{random.random()}$ genera un número de punto flotante pseudo aleatorio distribuido de manera uniforme en $[0,1)$, de forma de que:\n",
    "* El número posee 53 bits de precisión.\n",
    "* Posee un periodo de $2^{19937}-1$.\n",
    "* So logra usando el método __Mersenne Twister__.\n",
    "* La implementación es eficente en costo pero no es recomendable todos los fines.\n",
    "\n",
    "Existe la posibilidad de cambiar la semilla. Al trabajar desde $\\text{Numpy}$ se puede fijar una semilla usando $\\text{numpy.random.seed}$, que se encarga de llamar la librería estándar de $\\text{Python}$ utilizando el comando $\\text{random.seed(semilla)}$, que recibe un entero y configura la forma en que se genera el número aleatorio. Una forma astuta de setear la semilla es utilizar un número entero generado por variables externas al computador, como por ejemplo el instante de tiempo en que se ejecuta el código."
   ]
  }
 ],
 "metadata": {
  "kernelspec": {
   "display_name": "Python 3",
   "language": "python",
   "name": "python3"
  },
  "language_info": {
   "codemirror_mode": {
    "name": "ipython",
    "version": 3
   },
   "file_extension": ".py",
   "mimetype": "text/x-python",
   "name": "python",
   "nbconvert_exporter": "python",
   "pygments_lexer": "ipython3",
   "version": "3.7.9"
  }
 },
 "nbformat": 4,
 "nbformat_minor": 4
}
